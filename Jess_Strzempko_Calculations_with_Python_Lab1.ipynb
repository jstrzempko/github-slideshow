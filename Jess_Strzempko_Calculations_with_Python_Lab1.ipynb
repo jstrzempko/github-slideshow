{
  "nbformat": 4,
  "nbformat_minor": 0,
  "metadata": {
    "colab": {
      "name": "Jess_Strzempko_Calculations-with-Python_Lab1.ipynb",
      "provenance": [],
      "collapsed_sections": [],
      "authorship_tag": "ABX9TyPgc0OZshtLmQQoQuHv+xFj",
      "include_colab_link": true
    },
    "kernelspec": {
      "name": "python3",
      "display_name": "Python 3"
    }
  },
  "cells": [
    {
      "cell_type": "markdown",
      "metadata": {
        "id": "view-in-github",
        "colab_type": "text"
      },
      "source": [
        "<a href=\"https://colab.research.google.com/github/jstrzempko/github-slideshow/blob/master/Jess_Strzempko_Calculations_with_Python_Lab1.ipynb\" target=\"_parent\"><img src=\"https://colab.research.google.com/assets/colab-badge.svg\" alt=\"Open In Colab\"/></a>"
      ]
    },
    {
      "cell_type": "markdown",
      "metadata": {
        "id": "m-pQWpeFTv_2",
        "colab_type": "text"
      },
      "source": [
        "Jess Strzempko  \n",
        "Created 8.28.20  \n",
        "Python version 3.6.9  \n",
        "IDCE 302 Python Programming  \n",
        "\n",
        "## Lab 1 - Calculations with Python\n",
        "\n",
        "This code calculates agricultural land and rain runoff in Kenya. When agricultural land is converted to impervious (or impermeable) surfaces, rainwater runoff tends to increase due to reduced absorption. Increased runoff can have both advantages, such as reuse opportunities, and disadvantages when it results in flooding or landslides. Environmental calculations like these are important to understanding how the landscape will respond to human development with potential negative impacts for the local population. \n",
        "\n",
        "**Inputs:**  \n",
        "\n",
        "* Agricultural plot area: 1000 square feet  \n",
        "* Plot length: 50 feet  \n",
        "* Plot width:  20 feet  \n",
        "* Rainstorm water depth: 1 inch \n",
        "\n",
        "**Outputs:**  \n",
        "* Rainwater runoff in gallons\n"
      ]
    },
    {
      "cell_type": "code",
      "metadata": {
        "id": "1NPjZ-FPSyUx",
        "colab_type": "code",
        "colab": {}
      },
      "source": [
        "#First, assign the values to the variables for plot length and width in feet\n",
        "#Enter the values as floating point numbers, so the calculations will produce an answer of the same type  \n",
        "length_ft = 50.00 \n",
        "width_ft = 20.00\n",
        "\n",
        "#We can also assign a value to the variable for plot area in square feet\n",
        "area_sq_ft = 1000.00\n",
        "\n",
        "#Next, it will be necessary to convert the units of the plot dimension from feet to inches\n",
        "#This will ensure that the result can be multiplied by our rainstorm water depth (measured in inches)\n",
        "#In this case, 12.00 inches = 1 foot so we multiply by 12.00\n",
        "length_in = length_ft * 12.00\n",
        "width_in = width_ft * 12.00\n",
        "\n",
        "#Assign the area in square inches variable to be the result of the product\n",
        "#between the length and width of the plot in inches\n",
        "area_sq_in = length_in * width_in\n",
        "\n",
        "#As the last input, assign a value of 1.00 inches to the rainfall water depth variable\n",
        "rainfall_in = 1.00\n",
        "\n",
        "#With the area of the plot in square inches and the rainfall depth in inches\n",
        "#we assign the runoff in cubic inches to the be the product of the 2 aforementioned variables\n",
        "runoff_cubic_in = area_sq_in * rainfall_in\n",
        "\n",
        "#Lastly, we must convert the units of the result from cubic inches to gallons\n",
        "#There are 231 cubic inches in 1 gallon of water, so divide by 231\n",
        "runoff_gal = runoff_cubic_in / 231\n",
        "\n",
        "#A series of print statement demonstrating the 3 inputs and 1 output (as listed above in the description)\n",
        "#The resulting runoff in gallons is rounded to 2 decimal places\n",
        "print(\"Plot Length: \", length_ft, \"feet\")\n",
        "print(\"Plot Width: \", width_ft, \"feet\")\n",
        "print(\"Rainfall Depth:\", rainfall_in, \"inches\")\n",
        "print(\"Rainfall Runoff:\", round(runoff_gal, 2), \"gallons\")"
      ],
      "execution_count": null,
      "outputs": []
    }
  ]
}